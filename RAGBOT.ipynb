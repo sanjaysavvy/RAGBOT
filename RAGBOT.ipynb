{
 "cells": [
  {
   "cell_type": "markdown",
   "metadata": {
    "id": "ZttuhmxWeYgg"
   },
   "source": [
    "##Prerequisites"
   ]
  },
  {
   "cell_type": "code",
   "execution_count": null,
   "metadata": {
    "colab": {
     "base_uri": "https://localhost:8080/",
     "height": 35
    },
    "id": "dFyHw0wFOAxw",
    "outputId": "1726123b-2b53-4d30-e1af-8b3427ac371e"
   },
   "outputs": [],
   "source": [
    "import torch\n",
    "torch.__version__"
   ]
  },
  {
   "cell_type": "code",
   "execution_count": null,
   "metadata": {
    "colab": {
     "base_uri": "https://localhost:8080/"
    },
    "id": "VjmZEI0uOnde",
    "outputId": "f112f816-9ab0-45d4-c923-a1ab5d6dd57d"
   },
   "outputs": [],
   "source": [
    "!pip install -U transformers sentence-transformers  datasets tqdm"
   ]
  },
  {
   "cell_type": "code",
   "execution_count": null,
   "metadata": {
    "colab": {
     "base_uri": "https://localhost:8080/"
    },
    "id": "TV0ilzpLOtAR",
    "outputId": "db6758a8-1b15-49ac-fb5f-e3f806655985"
   },
   "outputs": [],
   "source": [
    "!pip install faiss-cpu"
   ]
  },
  {
   "cell_type": "code",
   "execution_count": null,
   "metadata": {
    "colab": {
     "base_uri": "https://localhost:8080/"
    },
    "id": "WShbtMezOvFO",
    "outputId": "8cf84266-0314-43b1-d409-ef98fe6440a5"
   },
   "outputs": [],
   "source": [
    "import torch\n",
    "import transformers\n",
    "import faiss\n",
    "import sentence_transformers\n",
    "\n",
    "print(\"Torch:\", torch.__version__)\n",
    "print(\"Transformers:\", transformers.__version__)\n",
    "print(\"FAISS:\", faiss.__version__)\n",
    "print(\"Sentence Transformers:\", sentence_transformers.__version__)"
   ]
  },
  {
   "cell_type": "markdown",
   "metadata": {
    "id": "Ub07vamsd8T-"
   },
   "source": [
    "##Exploratory Data Analysis"
   ]
  },
  {
   "cell_type": "code",
   "execution_count": null,
   "metadata": {
    "colab": {
     "base_uri": "https://localhost:8080/",
     "height": 206
    },
    "id": "iA7_cVPaQcwB",
    "outputId": "1560dfa3-dcb5-4459-ede7-410395858f9c"
   },
   "outputs": [],
   "source": [
    "import pandas as pd\n",
    "\n",
    "df = pd.read_csv(\"data.csv\")\n",
    "df.head()"
   ]
  },
  {
   "cell_type": "code",
   "execution_count": null,
   "metadata": {
    "colab": {
     "base_uri": "https://localhost:8080/"
    },
    "id": "cPN6gvVmQ1Qk",
    "outputId": "05cf4db3-40a2-4e95-95a8-67663389fdd7"
   },
   "outputs": [],
   "source": [
    "print(df['intent'].value_counts())"
   ]
  },
  {
   "cell_type": "code",
   "execution_count": null,
   "metadata": {
    "colab": {
     "base_uri": "https://localhost:8080/",
     "height": 241
    },
    "id": "_ttijq-5Q_EK",
    "outputId": "14de7ced-fad7-4612-b003-0dc395770413"
   },
   "outputs": [],
   "source": [
    "df.isna().sum()"
   ]
  },
  {
   "cell_type": "code",
   "execution_count": null,
   "metadata": {
    "id": "BbkmOtgURC5O"
   },
   "outputs": [],
   "source": [
    "df = df.rename(columns={\"instruction\": \"question\", \"response\": \"answer\"})  # adapt as needed"
   ]
  },
  {
   "cell_type": "code",
   "execution_count": null,
   "metadata": {
    "colab": {
     "base_uri": "https://localhost:8080/"
    },
    "id": "PvqBFAMCRZxT",
    "outputId": "62fe4502-f9f1-417c-f195-9b856b968e7c"
   },
   "outputs": [],
   "source": [
    "df.columns"
   ]
  },
  {
   "cell_type": "code",
   "execution_count": null,
   "metadata": {
    "id": "JEmx9y9XRcDI"
   },
   "outputs": [],
   "source": [
    "df[\"question\"] = df[\"question\"].astype(str).str.strip()\n",
    "df[\"answer\"] = df[\"answer\"].astype(str).str.strip()"
   ]
  },
  {
   "cell_type": "code",
   "execution_count": null,
   "metadata": {
    "colab": {
     "base_uri": "https://localhost:8080/"
    },
    "id": "YgrJFvvSRhfs",
    "outputId": "07da1819-85b6-4c51-dea6-6dc620fef34b"
   },
   "outputs": [],
   "source": [
    "print(df.shape)"
   ]
  },
  {
   "cell_type": "code",
   "execution_count": null,
   "metadata": {
    "colab": {
     "base_uri": "https://localhost:8080/",
     "height": 206
    },
    "id": "IZ9pb7KoRlYq",
    "outputId": "4f58d8f1-f701-468d-95d7-6b19c456bd4c"
   },
   "outputs": [],
   "source": [
    "df.head()"
   ]
  },
  {
   "cell_type": "markdown",
   "metadata": {
    "id": "7oo3tYe1eC2u"
   },
   "source": [
    "##Define Embeddings"
   ]
  },
  {
   "cell_type": "code",
   "execution_count": null,
   "metadata": {
    "colab": {
     "base_uri": "https://localhost:8080/"
    },
    "id": "qeNuJ2oRRpn4",
    "outputId": "631de168-1ed3-471d-f6cb-4806fc318a50"
   },
   "outputs": [],
   "source": [
    "\n",
    "from sentence_transformers import SentenceTransformer\n",
    "\n",
    "# Load the embedding model\n",
    "embedding_model = SentenceTransformer(\"all-MiniLM-L6-v2\")"
   ]
  },
  {
   "cell_type": "code",
   "execution_count": null,
   "metadata": {
    "colab": {
     "base_uri": "https://localhost:8080/",
     "height": 49,
     "referenced_widgets": [
      "6fe7f393180c429ab4f0ce00dd0aad25",
      "0d99150a226e48cb99e632f51db0375d",
      "8bbdfc96b20740a89a7420c2e8225d53",
      "800d5736c1864a09a8242bb929047781",
      "1b8c2a7ceebf402dbdb2d6d8a94933f0",
      "809a17f94cbb460faed00255e3261f8b",
      "36c2ff7bcbab403f89fd5438c4db6927",
      "8438ce7e1fe8429087ffd893e3f18d71",
      "cb1f89e35c4f4e06a41ff7bfa15b254f",
      "59e955c1e83d4150807bb9eb3074913c",
      "1f394ce2390d418089683bc8df69df34"
     ]
    },
    "id": "NoQgIskMSSIX",
    "outputId": "a2c306ea-83aa-4e81-d7c5-a15dcfa03302"
   },
   "outputs": [],
   "source": [
    "# Extract all the questions\n",
    "questions = df[\"question\"].tolist()\n",
    "\n",
    "# Generate vector embeddings (768-d)\n",
    "question_embeddings = embedding_model.encode(questions, show_progress_bar=True)"
   ]
  },
  {
   "cell_type": "markdown",
   "metadata": {
    "id": "2kXI0i-4eHuM"
   },
   "source": [
    "##Define FAISS Database"
   ]
  },
  {
   "cell_type": "code",
   "execution_count": null,
   "metadata": {
    "colab": {
     "base_uri": "https://localhost:8080/"
    },
    "id": "kGimqktsSYma",
    "outputId": "81f669f6-887c-4fd4-e0d1-b068de9c4c3e"
   },
   "outputs": [],
   "source": [
    "import faiss\n",
    "import numpy as np\n",
    "\n",
    "# Convert to numpy array (float32 required by FAISS)\n",
    "question_embeddings = np.array(question_embeddings).astype(\"float32\")\n",
    "\n",
    "# Create FAISS index\n",
    "index = faiss.IndexFlatL2(question_embeddings.shape[1])  # L2 = Euclidean distance\n",
    "index.add(question_embeddings)\n",
    "\n",
    "print(f\"FAISS index has {index.ntotal} vectors.\")"
   ]
  },
  {
   "cell_type": "code",
   "execution_count": null,
   "metadata": {
    "id": "xieUAmuHSfVa"
   },
   "outputs": [],
   "source": [
    "def retrieve_similar_tickets(query, top_k=3):\n",
    "    # Step 1: Embed the query\n",
    "    query_embedding = embedding_model.encode([query])\n",
    "    query_embedding = np.array(query_embedding).astype(\"float32\")\n",
    "\n",
    "    # Step 2: Search FAISS\n",
    "    distances, indices = index.search(query_embedding, top_k)\n",
    "\n",
    "    # Step 3: Fetch the matching answers from the dataframe\n",
    "    matched_questions = [df.iloc[idx][\"question\"] for idx in indices[0]]\n",
    "    matched_answers = [df.iloc[idx][\"answer\"] for idx in indices[0]]\n",
    "\n",
    "    return matched_questions, matched_answers"
   ]
  },
  {
   "cell_type": "code",
   "execution_count": null,
   "metadata": {
    "colab": {
     "base_uri": "https://localhost:8080/"
    },
    "id": "ox9qReaWSt6w",
    "outputId": "fd6859b9-226b-4e57-8cda-4d7b5ea1ea2a"
   },
   "outputs": [],
   "source": [
    "query = \"I want to cancel my recent purchase\"\n",
    "questions, answers = retrieve_similar_tickets(query)\n",
    "\n",
    "for i in range(len(questions)):\n",
    "    print(f\"Matched Q{i+1}: {questions[i]}\")\n",
    "    print(f\"Matched A{i+1}: {answers[i]}\")\n",
    "    print(\"---\")"
   ]
  },
  {
   "cell_type": "code",
   "execution_count": null,
   "metadata": {
    "colab": {
     "base_uri": "https://localhost:8080/"
    },
    "id": "cXKlwDglS-E4",
    "outputId": "df511427-8803-4d37-ae07-a9674a475819"
   },
   "outputs": [],
   "source": [
    "!pip install -U  accelerate bitsandbytes einops"
   ]
  },
  {
   "cell_type": "markdown",
   "metadata": {
    "id": "8QnoPu_ReN7Z"
   },
   "source": [
    "##Import Zephyr Model"
   ]
  },
  {
   "cell_type": "code",
   "execution_count": null,
   "metadata": {
    "colab": {
     "base_uri": "https://localhost:8080/",
     "height": 407,
     "referenced_widgets": [
      "44b6b28fdad846b09c80b1fc173064c4",
      "1ad992ede2a74be585fbe1f389735cc3",
      "27ac649083944a3abd30e3d38d2f252d",
      "410f01f873054f1fab807ab9d29c8198",
      "17583f0b61e54a6aaa75e185e4a72f2c",
      "200c9d50f4ac46b98fac5c3e46dbbccc",
      "81ea96c1817a483584aac24759140a2b",
      "0a9c288bb7354fb79726c7c6c6a61207",
      "bc826b1e7b3246979d99a613730ad613",
      "b44d6986eb80480d80596cd22e761cad",
      "032786e88d6e41c7809ec97a0722735d",
      "17ec9fdbc111434fb9483748a86a112d",
      "9b559f300be04445a032c305de24f3e2",
      "0afd75a3e71d4b6395da3c6677ac514c",
      "ff935c29e9f64478aafda44eee4f9f07",
      "afd43ed44a6a4ff7bb8f9d973c0e99bf",
      "3eb40782c6dd442cb80efdcf5b33ce55",
      "06a90e682ad849e39c89b3f620306a73",
      "3e3157cd6f184ef7aefe107746dae272",
      "e08027fc6c714a9c83f8664813e4cf49",
      "382fe375c09741048f74a1ab589555fb",
      "5278795eb6754a1e9344128b7e5c77de",
      "1ea6240305b54e638e84b696ceb9fb1f",
      "5f7ff7223e7047969f98b061dfd2520b",
      "fb04363bf5fd47c59d66d01dfb5b723b",
      "4257f37f9af849a696bacf3de0fd14de",
      "f82a9a6687e74e398e214237e4760193",
      "279dcd8afbcb4228b7545034c27ba420",
      "f9393656b825454a94de1bbc01037674",
      "c5d6c21c0ef547e8ae3a7c53b1f4c8d3",
      "423dec285bd14199b331d8c95c1c0e4c",
      "7f765dbc688f437f8efa7ccdabcfafeb",
      "f99537432f52454685f8ee84f057a170",
      "2dfeecc31bed49898120bd8109a8e9e4",
      "96ffe1b9512d49f1a7c746bde2943a58",
      "475747d2a2e74c5d9ea79dd94a4f6337",
      "38e97e77c5664ab4a482152d7a8f0935",
      "e109e947e50245d3b84074103476c067",
      "a5150476e86a406d9b82047f4370cd55",
      "3c7489a8eca24956b82616ed05be8eb3",
      "f69db12d5b9a44ec954523d524b428bc",
      "1d8a95c2444543c492bd4e41a9213102",
      "3f2ae804ce3f49a882d325ce34d9c023",
      "041acdbce2694a1681e6300a4d4c409e",
      "851d485cc0c24833bb270f0d60d62ef4",
      "b996b61d4755424ba45a0a6b915114b0",
      "7c6dadfaa2fc4ccd993043e3c36cd6dd",
      "3f7aa1509c124bceaf4a444fabe19d80",
      "b208f79783644153a3855df709398196",
      "025ad71fb87c4e7f829f42ec55dbe2c3",
      "b8cf373da25c45cb8baace6aaa42f5a6",
      "575f7364a0e64b659bd667170d3ab817",
      "a297f101089d4845a14ed1146043c193",
      "0b89a9e702bf48bc845d47ed0a89ff39",
      "f1eaa8929718408ab63d09db3b5cac22",
      "a92b6818b1ec46159fd61243ba5f954c",
      "6928e544b85549cbb071ccc22957e2fa",
      "ea622de05b7a4c628c93fbef89fd6ee0",
      "ffd5f57c8b91422ba2010d1df5801a4f",
      "37c7905465ad4b4f8549bd3be0bbb496",
      "9767efcd156049778fd462195b4110fd",
      "37af9d9892a248c786839f27cc77937d",
      "f4ae0aae8d554dfca27360de21a6a0f3",
      "38215145db9041ea9146f98c1dd46f4b",
      "8666140d9f6c4e5ea894f96664c7afd1",
      "2b60cafd0d854d77afd09e9e6f824791",
      "2a874f1875a640e5b8bd520751ca5b32",
      "32a6056870774275988495e8aa74c475",
      "ef3cf5319f22493bace881faca34c3a1",
      "0887ea16f958421fbbd2b90c46fe8533",
      "39411be0b24f458292b8505c806e771c",
      "5ca6e04d667c4f29ae1fb6744871bce8",
      "f79a15de5a99455faa86553b1541963a",
      "09ce09a064374b57a2ff0c53ec07b0e6",
      "80448acf486744bebe5348decbcbb544",
      "4b082b1da8784006b68fd31e66b97c2e",
      "fa4b53d644f24bd09c94dd41c077c74a",
      "7b80eaaef02447a6ad21107185774edd",
      "7fcde9b27c264ee581528019bdc606d0",
      "ea1af775e17e4676ac1bd78e7788f678",
      "528b1da576ab4a36a1587ee1d5b3980a",
      "1305a98fdca64edeafece8e49ff8ceee",
      "02e77258b22849cbaeab7980cf6c3c87",
      "03e68b89e11044968800bb87354587ee",
      "ad66c3fcf4194199a010f5fcf0b4e1ff",
      "6ebfec98f1744b30bd060902aa1addd2",
      "47c8910093cc4564b7523b5cceec66e8",
      "44b60d26e75a45d0b2ece2e335d5e4ef",
      "e874b968efbf4db7bea20e0675ab1e87",
      "b992b9303d684415bd539082694de05f",
      "99fa71bef1a24f1990454fde1d27fcc8",
      "1744289d3c6c40febb710d41c42baa5e",
      "eea373c62d0e49d6ae9ddda6baabb1c4",
      "4e9e19da0dd043219a1e74fa3d3c0ce8",
      "4f465d3b6e7a41b3bb6727e443521b4e",
      "3690308f55524ee8b7a992bd49e5fba5",
      "d9349a99864f4367bb705f8064280e51",
      "e526f579437b46e9a629833e56365fa0",
      "e5d45695b15f429c8ea369b4c2485757",
      "5c18783b66e9445d8ddaaa29efa805be",
      "208c5c16e7d44bf8a773c85d04297ca5",
      "674c644fbd4a4893b50b2c3511430a75",
      "eac40994c5114b4e86d38d0aaffab5d1",
      "3858959fa9ae43e79b0da3f9eb87483f",
      "ee05f3d12d8d4ec9a8b2ccdf97173ba3",
      "300575dfe84b48eaa0f462f7c7b0fdf6",
      "30cac5dbc4be469c9758f298b053fa0f",
      "44978747d32540ffa3e3cd090b86142b",
      "875d236b28d04c30b8d9f4f1b3a51576",
      "f5bb16a83d9640d2afb6df412243d105",
      "6e573f9444134644b1c4fbce5bfbf2e3",
      "def7f377614d4519a79b31e8a2edddbd",
      "78c87e52743a48caaab3a0009c0b4f50",
      "b4f52e56065641baab37535e11270478",
      "c55b7227a5154a1d9b59a5fbb097c974",
      "203c5c8a3d1a4d29a6c4c34ccc24140a",
      "820962699dc44efdad06d031a0c561a7",
      "72867f2f6e7c404993624b79138d2669",
      "d7e243b961d14c4c9bca1771390b0391",
      "38d8b977976c48148a9fc3b39173b48b",
      "8b50fc0cf2484f4888b732c80ee5bade"
     ]
    },
    "id": "moqOBkmBTNiW",
    "outputId": "1a3b7a15-bc3d-45bd-a664-b06620036898"
   },
   "outputs": [],
   "source": [
    "from transformers import AutoModelForCausalLM, AutoTokenizer\n",
    "import torch\n",
    "\n",
    "model_name = \"HuggingFaceH4/zephyr-7b-beta\"\n",
    "\n",
    "tokenizer = AutoTokenizer.from_pretrained(model_name)\n",
    "model = AutoModelForCausalLM.from_pretrained(\n",
    "    model_name,\n",
    "    device_map=\"auto\",\n",
    "    load_in_4bit=True,\n",
    "    torch_dtype=torch.float16,\n",
    "    trust_remote_code=True\n",
    ")"
   ]
  },
  {
   "cell_type": "code",
   "execution_count": null,
   "metadata": {
    "id": "oC3jPhLXYMag"
   },
   "outputs": [],
   "source": [
    "def generate_response_local(query, retrieved_answers):\n",
    "    context = \"\\n\\n\".join(retrieved_answers)\n",
    "\n",
    "    prompt = f\"\"\"<|system|>\n",
    "    You are a helpful, empathetic customer support assistant who always answers in a kind and professional tone.\n",
    "    <|user|>\n",
    "    Customer's Question:{query}\n",
    "\n",
    "    Relevant Past Support Responses:{context}\n",
    "\n",
    "    Now answer the customer's query in a clear, friendly tone:\n",
    "    <|assistant|>\n",
    "    \"\"\"\n",
    "\n",
    "    inputs = tokenizer(prompt, return_tensors=\"pt\").to(model.device)\n",
    "\n",
    "    outputs = model.generate(\n",
    "        **inputs,\n",
    "        max_new_tokens=300,\n",
    "        temperature=0.7,\n",
    "        top_p=0.9,\n",
    "        do_sample=True,\n",
    "        eos_token_id=tokenizer.eos_token_id,\n",
    "    )\n",
    "\n",
    "    response = tokenizer.decode(outputs[0], skip_special_tokens=True)\n",
    "    return response.split(\"<|assistant|>\")[-1].strip()"
   ]
  },
  {
   "cell_type": "code",
   "execution_count": null,
   "metadata": {
    "id": "7wYAMOMfaO5-"
   },
   "outputs": [],
   "source": [
    "def get_rag_response(query, top_k=3):\n",
    "    # Retrieve similar tickets\n",
    "    matched_questions, matched_answers = retrieve_similar_tickets(query, top_k=top_k)\n",
    "\n",
    "    # Generate the final LLM response\n",
    "    final_response = generate_response_local(query, matched_answers)\n",
    "\n",
    "    return final_response"
   ]
  },
  {
   "cell_type": "markdown",
   "metadata": {
    "id": "Lg6ebmUReT7c"
   },
   "source": [
    "##Sample Test"
   ]
  },
  {
   "cell_type": "code",
   "execution_count": null,
   "metadata": {
    "colab": {
     "base_uri": "https://localhost:8080/"
    },
    "id": "IcDJYS3TaeH0",
    "outputId": "6421343c-aff5-4677-9b94-a923adc21eac"
   },
   "outputs": [],
   "source": [
    "query = \"How do I track my recent order?\"\n",
    "print(get_rag_response(query))"
   ]
  },
  {
   "cell_type": "markdown",
   "metadata": {
    "id": "WsCT4YlUdwb1"
   },
   "source": [
    "##We did it!!"
   ]
  }
 ],
 "metadata": {
  "accelerator": "GPU",
  "colab": {
   "gpuType": "T4",
   "provenance": []
  },
  "kernelspec": {
   "display_name": "Python 3",
   "name": "python3"
  },
  "language_info": {
   "name": "python"
  }
 },
 "nbformat": 4,
 "nbformat_minor": 0
}
